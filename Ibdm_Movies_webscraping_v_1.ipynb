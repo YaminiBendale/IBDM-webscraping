{
  "nbformat": 4,
  "nbformat_minor": 0,
  "metadata": {
    "colab": {
      "name": "Ibdm_Movies webscraping v.1.ipynb",
      "provenance": [],
      "collapsed_sections": [],
      "authorship_tag": "ABX9TyMQL9+/JTFW66WYY5pBdeNJ",
      "include_colab_link": true
    },
    "kernelspec": {
      "name": "python3",
      "display_name": "Python 3"
    },
    "language_info": {
      "name": "python"
    }
  },
  "cells": [
    {
      "cell_type": "markdown",
      "metadata": {
        "id": "view-in-github",
        "colab_type": "text"
      },
      "source": [
        "<a href=\"https://colab.research.google.com/github/YaminiBendale/IBDM-webscraping/blob/main/Ibdm_Movies_webscraping_v_1.ipynb\" target=\"_parent\"><img src=\"https://colab.research.google.com/assets/colab-badge.svg\" alt=\"Open In Colab\"/></a>"
      ]
    },
    {
      "cell_type": "markdown",
      "metadata": {
        "id": "_luzdzMdYqSI"
      },
      "source": [
        "Extracting the Movie details from IBDM.com for Data analysis"
      ]
    },
    {
      "cell_type": "code",
      "metadata": {
        "id": "HcbWi18ioMUb"
      },
      "source": [
        "#import all the packages\n",
        "\n",
        "import requests\n",
        "from bs4 import BeautifulSoup\n",
        "import pandas as pd\n",
        "from time import sleep\n",
        "from random import randint\n",
        "from IPython.display import clear_output\n"
      ],
      "execution_count": null,
      "outputs": []
    },
    {
      "cell_type": "markdown",
      "metadata": {
        "id": "qEEXt4NeZDF-"
      },
      "source": [
        "Checking the Random URls for some pages for selecting Base_URL"
      ]
    },
    {
      "cell_type": "code",
      "metadata": {
        "id": "tEbMkv31Yn9R"
      },
      "source": [
        "#https://www.imdb.com/search/title/?release_date=2021-01-01,2021-12-31&sort=num_votes,desc&start=51&ref_=adv_nxt\n",
        "#https://www.imdb.com/search/title/?release_date=2021-01-01,2021-12-31&sort=num_votes,desc&start=101&ref_=adv_nxt\n",
        "#https://www.imdb.com/search/title/?release_date=2021-01-01,2021-12-31&sort=num_votes,desc&start=151&ref_=adv_nxt"
      ],
      "execution_count": null,
      "outputs": []
    },
    {
      "cell_type": "code",
      "metadata": {
        "id": "olaj73oqZU5A"
      },
      "source": [
        "Base_url = 'https://www.imdb.com/search/title/?release_date=2021-01-01,2021-12-31&sort=num_votes,desc&start='"
      ],
      "execution_count": null,
      "outputs": []
    },
    {
      "cell_type": "code",
      "metadata": {
        "id": "SnFJK2rhdleT",
        "colab": {
          "base_uri": "https://localhost:8080/"
        },
        "outputId": "a91470eb-5ab1-4286-f310-72528be0a491"
      },
      "source": [
        "# Lists to store the scraped data in\n",
        "movie_name = []\n",
        "releaseyear = []\n",
        "imdb_ratings = []\n",
        "metascores = []\n",
        "votes = []\n",
        "certificates = []\n",
        "durations = []\n",
        "genres = []\n",
        "\n",
        "movie_no = 1\n",
        "\n",
        "for i in range(1,1000,50):\n",
        "  sleep(randint(2,5))\n",
        "  req = requests.get(Base_url+str(i)+'&ref_=adv_nxt',headers = {'Accept-Language':'en-US, en;q=0.5'})\n",
        "  soup = BeautifulSoup(req.text,'html')\n",
        "\n",
        "  if movie_no > 500:\n",
        "    break\n",
        "\n",
        "  #list of movies\n",
        "  movies_info = soup.findAll('div',attrs={'class':'lister-item-content'})\n",
        "\n",
        "  #loopin through each movie to collect details \n",
        "  for movie in movies_info:\n",
        "\n",
        "    print(f'scrapping data of movie {movie_no}')\n",
        "    clear_output(wait=True)\n",
        "\n",
        "    movie_no += 1\n",
        "    \n",
        "    #Movie name\n",
        "    movie_lst = movie.find('h3',attrs={'class':'lister-item-header'}).a.text\n",
        "    movie_name.append(movie_lst)\n",
        "\n",
        "    #Release year\n",
        "    Movie_releaseyear = soup.find('span',attrs ={'class':'lister-item-year text-muted unbold'}).text.replace('(','').replace(')','').strip()\n",
        "    releaseyear.append(Movie_releaseyear)\n",
        "        \n",
        "    #certificate\n",
        "    certificate = movie.find('span',attrs={'class':'certificate'})\n",
        "    if certificate is None:\n",
        "      certificates.append(\"Not Available\")\n",
        "    else:\n",
        "      certificates.append(certificate.text)\n",
        "    \n",
        "    #duration\n",
        "    duration = movie.find('span',attrs={'class':'runtime'})\n",
        "    if duration is None:\n",
        "      durations.append(\"Not Available\")\n",
        "    else:\n",
        "      durations.append(duration.text)\n",
        "\n",
        "\n",
        "    #genre\n",
        "    genre = movie.find('span',attrs={'class':'genre'})\n",
        "    if genre is None:\n",
        "      genres.append('Not Available')\n",
        "    else:\n",
        "      genres.append(genre.text.strip())\n",
        "\n",
        "    #IMBD\n",
        "    imbd = movie.find('div',attrs={'class':'inline-block ratings-imdb-rating'})\n",
        "    imdb_ratings.append(imbd.strong.text)\n",
        "\n",
        "    #metascore\n",
        "    metascore = movie.find('div',attrs={'class':'inline-block ratings-metascore'})\n",
        "    if metascore is None:\n",
        "      metascores.append(\"Not Available\")\n",
        "    else:\n",
        "      metascores.append(metascore.span.text.strip())\n",
        "  \n",
        "\n",
        "    #votes\n",
        "    vote = movie.find('span',attrs={'name':'nv'})\n",
        "    votes.append(vote.text)\n",
        "\n"
      ],
      "execution_count": null,
      "outputs": [
        {
          "output_type": "stream",
          "text": [
            "scrapping data of movie 500\n"
          ],
          "name": "stdout"
        }
      ]
    },
    {
      "cell_type": "code",
      "metadata": {
        "id": "rdSW-wXPt6d0",
        "colab": {
          "base_uri": "https://localhost:8080/"
        },
        "outputId": "5cf97b42-71ac-49a1-f330-afd5eab3e62c"
      },
      "source": [
        "print(len(movie_name))\n",
        "print(len(releaseyear))\n",
        "print(len(imdb_ratings)) \n",
        "print(len(metascores))\n",
        "print(len(votes))\n",
        "print(len(certificates)) \n",
        "print(len(durations))\n",
        "print(len(genres))"
      ],
      "execution_count": null,
      "outputs": [
        {
          "output_type": "stream",
          "text": [
            "500\n",
            "500\n",
            "500\n",
            "500\n",
            "500\n",
            "500\n",
            "500\n",
            "500\n"
          ],
          "name": "stdout"
        }
      ]
    },
    {
      "cell_type": "code",
      "metadata": {
        "id": "d3eyTiVz04Zq",
        "colab": {
          "base_uri": "https://localhost:8080/",
          "height": 412
        },
        "outputId": "87731b34-11ab-4a0b-bbc8-fc8acac273d2"
      },
      "source": [
        "Data = pd.DataFrame({'Movie':movie_name,\n",
        "                   'Release Year':releaseyear,\n",
        "                   'Certification':certificates,\n",
        "                   'Duration':durations,\n",
        "                   'Genre':genres,\n",
        "                   'Imbd':imdb_ratings,\n",
        "                   'Metascore':metascores,\n",
        "                   'Votes':votes})\n",
        "Data"
      ],
      "execution_count": null,
      "outputs": [
        {
          "output_type": "execute_result",
          "data": {
            "text/html": [
              "<div>\n",
              "<style scoped>\n",
              "    .dataframe tbody tr th:only-of-type {\n",
              "        vertical-align: middle;\n",
              "    }\n",
              "\n",
              "    .dataframe tbody tr th {\n",
              "        vertical-align: top;\n",
              "    }\n",
              "\n",
              "    .dataframe thead th {\n",
              "        text-align: right;\n",
              "    }\n",
              "</style>\n",
              "<table border=\"1\" class=\"dataframe\">\n",
              "  <thead>\n",
              "    <tr style=\"text-align: right;\">\n",
              "      <th></th>\n",
              "      <th>Movie</th>\n",
              "      <th>Release Year</th>\n",
              "      <th>Certification</th>\n",
              "      <th>Duration</th>\n",
              "      <th>Genre</th>\n",
              "      <th>Imbd</th>\n",
              "      <th>Metascore</th>\n",
              "      <th>Votes</th>\n",
              "    </tr>\n",
              "  </thead>\n",
              "  <tbody>\n",
              "    <tr>\n",
              "      <th>0</th>\n",
              "      <td>Zack Snyder's Justice League</td>\n",
              "      <td>2021</td>\n",
              "      <td>R</td>\n",
              "      <td>242 min</td>\n",
              "      <td>Action, Adventure, Fantasy</td>\n",
              "      <td>8.1</td>\n",
              "      <td>54</td>\n",
              "      <td>306,143</td>\n",
              "    </tr>\n",
              "    <tr>\n",
              "      <th>1</th>\n",
              "      <td>Aspirants</td>\n",
              "      <td>2021</td>\n",
              "      <td>Not Available</td>\n",
              "      <td>45 min</td>\n",
              "      <td>Drama</td>\n",
              "      <td>9.0</td>\n",
              "      <td>Not Available</td>\n",
              "      <td>271,842</td>\n",
              "    </tr>\n",
              "    <tr>\n",
              "      <th>2</th>\n",
              "      <td>WandaVision</td>\n",
              "      <td>2021</td>\n",
              "      <td>TV-PG</td>\n",
              "      <td>350 min</td>\n",
              "      <td>Action, Comedy, Drama</td>\n",
              "      <td>8.1</td>\n",
              "      <td>Not Available</td>\n",
              "      <td>185,455</td>\n",
              "    </tr>\n",
              "    <tr>\n",
              "      <th>3</th>\n",
              "      <td>Radhe</td>\n",
              "      <td>2021</td>\n",
              "      <td>TV-MA</td>\n",
              "      <td>135 min</td>\n",
              "      <td>Action, Crime, Thriller</td>\n",
              "      <td>1.8</td>\n",
              "      <td>Not Available</td>\n",
              "      <td>163,423</td>\n",
              "    </tr>\n",
              "    <tr>\n",
              "      <th>4</th>\n",
              "      <td>Godzilla vs. Kong</td>\n",
              "      <td>2021</td>\n",
              "      <td>PG-13</td>\n",
              "      <td>113 min</td>\n",
              "      <td>Action, Sci-Fi, Thriller</td>\n",
              "      <td>6.4</td>\n",
              "      <td>59</td>\n",
              "      <td>145,509</td>\n",
              "    </tr>\n",
              "    <tr>\n",
              "      <th>...</th>\n",
              "      <td>...</td>\n",
              "      <td>...</td>\n",
              "      <td>...</td>\n",
              "      <td>...</td>\n",
              "      <td>...</td>\n",
              "      <td>...</td>\n",
              "      <td>...</td>\n",
              "      <td>...</td>\n",
              "    </tr>\n",
              "    <tr>\n",
              "      <th>495</th>\n",
              "      <td>LOL: Last One Laughing Germany</td>\n",
              "      <td>2021</td>\n",
              "      <td>Not Available</td>\n",
              "      <td>Not Available</td>\n",
              "      <td>Comedy, Reality-TV</td>\n",
              "      <td>7.8</td>\n",
              "      <td>Not Available</td>\n",
              "      <td>1,718</td>\n",
              "    </tr>\n",
              "    <tr>\n",
              "      <th>496</th>\n",
              "      <td>Grahan</td>\n",
              "      <td>2021</td>\n",
              "      <td>Not Available</td>\n",
              "      <td>Not Available</td>\n",
              "      <td>Action, Drama, Thriller</td>\n",
              "      <td>8.9</td>\n",
              "      <td>Not Available</td>\n",
              "      <td>1,713</td>\n",
              "    </tr>\n",
              "    <tr>\n",
              "      <th>497</th>\n",
              "      <td>The Frog</td>\n",
              "      <td>2021</td>\n",
              "      <td>Not Rated</td>\n",
              "      <td>71 min</td>\n",
              "      <td>Crime, Drama, Mystery</td>\n",
              "      <td>7.3</td>\n",
              "      <td>Not Available</td>\n",
              "      <td>1,705</td>\n",
              "    </tr>\n",
              "    <tr>\n",
              "      <th>498</th>\n",
              "      <td>Zombie Reddy</td>\n",
              "      <td>2021</td>\n",
              "      <td>Not Available</td>\n",
              "      <td>130 min</td>\n",
              "      <td>Action, Comedy, Horror</td>\n",
              "      <td>7.0</td>\n",
              "      <td>Not Available</td>\n",
              "      <td>1,702</td>\n",
              "    </tr>\n",
              "    <tr>\n",
              "      <th>499</th>\n",
              "      <td>Exterminate All the Brutes</td>\n",
              "      <td>2021</td>\n",
              "      <td>TV-MA</td>\n",
              "      <td>232 min</td>\n",
              "      <td>Documentary, History</td>\n",
              "      <td>6.8</td>\n",
              "      <td>Not Available</td>\n",
              "      <td>1,701</td>\n",
              "    </tr>\n",
              "  </tbody>\n",
              "</table>\n",
              "<p>500 rows × 8 columns</p>\n",
              "</div>"
            ],
            "text/plain": [
              "                              Movie Release Year  ...      Metascore    Votes\n",
              "0      Zack Snyder's Justice League         2021  ...             54  306,143\n",
              "1                         Aspirants         2021  ...  Not Available  271,842\n",
              "2                       WandaVision         2021  ...  Not Available  185,455\n",
              "3                             Radhe         2021  ...  Not Available  163,423\n",
              "4                 Godzilla vs. Kong         2021  ...             59  145,509\n",
              "..                              ...          ...  ...            ...      ...\n",
              "495  LOL: Last One Laughing Germany         2021  ...  Not Available    1,718\n",
              "496                          Grahan         2021  ...  Not Available    1,713\n",
              "497                        The Frog         2021  ...  Not Available    1,705\n",
              "498                    Zombie Reddy         2021  ...  Not Available    1,702\n",
              "499      Exterminate All the Brutes         2021  ...  Not Available    1,701\n",
              "\n",
              "[500 rows x 8 columns]"
            ]
          },
          "metadata": {
            "tags": []
          },
          "execution_count": 16
        }
      ]
    },
    {
      "cell_type": "code",
      "metadata": {
        "id": "wdWSQaVsyh7a"
      },
      "source": [
        "Data.to_csv('500 Movies from IBDM.csv',index= False)"
      ],
      "execution_count": null,
      "outputs": []
    }
  ]
}